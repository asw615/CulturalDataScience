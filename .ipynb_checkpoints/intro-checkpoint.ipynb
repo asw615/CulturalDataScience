{
 "cells": [
  {
   "cell_type": "code",
   "execution_count": 1,
   "id": "da54990d-f7c9-4681-bfcd-0bae0deb447d",
   "metadata": {},
   "outputs": [
    {
     "name": "stdout",
     "output_type": "stream",
     "text": [
      "hello culturaldatasci\n"
     ]
    }
   ],
   "source": [
    "a= 'hello '\n",
    "b= 'culturaldatasci' \n",
    "print(a+b)"
   ]
  },
  {
   "cell_type": "code",
   "execution_count": null,
   "id": "e2dcbac8-6b85-4df1-b708-4178ad408343",
   "metadata": {},
   "outputs": [],
   "source": []
  }
 ],
 "metadata": {
  "kernelspec": {
   "display_name": "Python 3 ",
   "language": "python",
   "name": "python3"
  },
  "language_info": {
   "codemirror_mode": {
    "name": "ipython",
    "version": 3
   },
   "file_extension": ".py",
   "mimetype": "text/x-python",
   "name": "python",
   "nbconvert_exporter": "python",
   "pygments_lexer": "ipython3",
   "version": "3.10.14"
  }
 },
 "nbformat": 4,
 "nbformat_minor": 5
}
